{
 "cells": [
  {
   "cell_type": "markdown",
   "metadata": {},
   "source": [
    "# Import relevant libraries"
   ]
  },
  {
   "cell_type": "code",
   "execution_count": 7,
   "metadata": {},
   "outputs": [],
   "source": [
    "import numpy as np\n",
    "import tensorflow as tf \n",
    "import matplotlib.pyplot as plt\n",
    "import utils"
   ]
  },
  {
   "cell_type": "code",
   "execution_count": 3,
   "metadata": {},
   "outputs": [],
   "source": [
    "from VAE_tf import VariationalAutoencoder"
   ]
  },
  {
   "cell_type": "markdown",
   "metadata": {},
   "source": [
    "## plot function "
   ]
  },
  {
   "cell_type": "code",
   "execution_count": 1,
   "metadata": {
    "collapsed": true
   },
   "outputs": [],
   "source": [
    "def plot_reconstruction(X,vae):\n",
    "    done = False\n",
    "    while not done:\n",
    "        i = np.random.choice(len(X))\n",
    "        x = X[i]\n",
    "        im = vae.posterior_predictive_sample([x]).reshape(28,28)\n",
    "        plt.subplot(1,2,1)\n",
    "        plt.imshow(x,reshape(28,28),camp = 'gray')\n",
    "        plt.title('Original')\n",
    "        plt.imshow(im,camp='gray')\n",
    "        plt.title('Reconstruction')\n",
    "        plt.show()\n",
    "    qus = input('Show another pair? n to stop')\n",
    "    if qus and qus[0] in ('n' or 'N'):\n",
    "        done = True"
   ]
  },
  {
   "cell_type": "code",
   "execution_count": 4,
   "metadata": {
    "collapsed": true
   },
   "outputs": [],
   "source": [
    "def plot_latentspace(vae):\n",
    "    done = False\n",
    "    while not done:\n",
    "        img,prob = vae.prior_predictive_sample_with_probs()\n",
    "        im = im.reshape(28,28)\n",
    "        probs = probs.reshape(28,28)\n",
    "        plt.subplot(1,2,1)\n",
    "        plt.imshow(im,camp='gray')\n",
    "        plt.title('prior predictive sample')\n",
    "        plt.subplot(1,2,1)\n",
    "        plt.imshow(probs,camp='gray')\n",
    "        plt.title('Prior predictive probability')\n",
    "        plt.show()\n",
    "    qus = input('Show another pair? n to stop')\n",
    "    if qus and qus[0] in ('n' or 'N'):\n",
    "        done = True  "
   ]
  },
  {
   "cell_type": "markdown",
   "metadata": {},
   "source": [
    "# VAE on MINST"
   ]
  },
  {
   "cell_type": "code",
   "execution_count": 12,
   "metadata": {},
   "outputs": [
    {
     "name": "stdout",
     "output_type": "stream",
     "text": [
      "Reading in and transforming data...\n"
     ]
    }
   ],
   "source": [
    "X,Y = utils.get_mnist()"
   ]
  },
  {
   "cell_type": "code",
   "execution_count": 13,
   "metadata": {},
   "outputs": [
    {
     "data": {
      "text/plain": [
       "(42000, 784)"
      ]
     },
     "execution_count": 13,
     "metadata": {},
     "output_type": "execute_result"
    }
   ],
   "source": []
  },
  {
   "cell_type": "code",
   "execution_count": null,
   "metadata": {
    "collapsed": true
   },
   "outputs": [],
   "source": []
  }
 ],
 "metadata": {
  "kernelspec": {
   "display_name": "Python 3",
   "language": "python",
   "name": "python3"
  },
  "language_info": {
   "codemirror_mode": {
    "name": "ipython",
    "version": 3
   },
   "file_extension": ".py",
   "mimetype": "text/x-python",
   "name": "python",
   "nbconvert_exporter": "python",
   "pygments_lexer": "ipython3",
   "version": "3.6.1"
  }
 },
 "nbformat": 4,
 "nbformat_minor": 2
}
